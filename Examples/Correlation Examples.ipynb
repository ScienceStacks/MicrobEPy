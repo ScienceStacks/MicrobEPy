{
 "cells": [
  {
   "cell_type": "markdown",
   "metadata": {},
   "source": [
    "# Correlation Examples\n",
    "This notebook illustrates the correlation analyses provided by microbepy.\n",
    "\n",
    "- correlation\\_group.py - Groups formed by mutations because they have the same correlations with other mutations.\n",
    "- depvar\\_group.py - Grouping of mutations because of similar values of dependent variables\n",
    "- genome\\_correlation.py - Provides correlations between genomes\n",
    "- mutation\\_cooccurrence.py - Identifies co-occurring mutations for a collection of isolates\n",
    "- mutation\\_collection.py - A grouping of mutations based on the mutations co-occurring in the same isolates\n"
   ]
  },
  {
   "cell_type": "code",
   "execution_count": 1,
   "metadata": {},
   "outputs": [],
   "source": [
    "%matplotlib inline\n",
    "\n",
    "import init\n",
    "from microbepy.common import constants as cn\n",
    "from microbepy.common import isolate\n",
    "from microbepy.common.range_constraint import RangeConstraint\n",
    "from microbepy.common.study_context import nextStudyContext\n",
    "from microbepy.common.study_context import StudyContext\n",
    "from microbepy.common import util\n",
    "from microbepy.data.model_data_provider import ModelDataProvider, ModelDataDualProvider\n",
    "from microbepy.correlation.correlation_group import CorrelationGroup\n",
    "from microbepy.correlation.depvar_group import DepvarGroup\n",
    "\n",
    "import copy\n",
    "import numpy as np\n",
    "import pandas as pd"
   ]
  }
 ],
 "metadata": {
  "kernelspec": {
   "display_name": "Python 3",
   "language": "python",
   "name": "python3"
  },
  "language_info": {
   "codemirror_mode": {
    "name": "ipython",
    "version": 3
   },
   "file_extension": ".py",
   "mimetype": "text/x-python",
   "name": "python",
   "nbconvert_exporter": "python",
   "pygments_lexer": "ipython3",
   "version": "3.7.2"
  }
 },
 "nbformat": 4,
 "nbformat_minor": 2
}
