{
 "cells": [
  {
   "cell_type": "markdown",
   "metadata": {},
   "source": [
    "# Using the Data Modules\n",
    "\n",
    "The data modules provide a way to access the underlying data and transform it to facilitate analysis. This includes:\n",
    "\n",
    "- Data retrieval using SQL\n",
    "- Creation of mutation matrices\n",
    "- Creation of vectors of dependent variables"
   ]
  },
  {
   "cell_type": "code",
   "execution_count": 2,
   "metadata": {},
   "outputs": [],
   "source": [
    "%matplotlib inline\n",
    "\n",
    "import init\n",
    "import microbepy.common\n",
    "from microbepy.common import constants as cn\n",
    "from microbepy.common import util\n",
    "from microbepy.common import isolate\n",
    "from microbepy.statistics.mutation_differential import MutationDifferential\n",
    "from microbepy.common.range_constraint import RangeConstraint\n",
    "from microbepy.common.study_context import nextStudyContext\n",
    "from microbepy.plot.util_plot import PlotParms\n",
    "from microbepy.correlation.mutation_collection import MutationCollection\n",
    "from microbepy.plot.mutation_plot import MutationIsolatePlot, MutationLinePlot\n",
    "\n",
    "import copy\n",
    "import numpy as np\n",
    "import pandas as pd"
   ]
  },
  {
   "cell_type": "markdown",
   "metadata": {},
   "source": [
    "## Data Model\n",
    "\n",
    "Microbepy assumes that data are organized in terms of:\n",
    "\n",
    "- Isolate: This is the microbial community (a generalization of the usual definition of isolate)\n",
    "- Mutation: Changes to the genome\n",
    "- Culture: Phenotype information obtained from a culture\n",
    "\n",
    "An isolate is described in terms of the following:\n",
    "\n",
    "- Evolutionary line (often, just line)\n",
    "- Transfer time (time at which the isolate was obtained)\n",
    "- End point dilution (abbreviated EPD) or None if not applicable\n",
    "- Clone (an index of same genome organisms on a plate) or None if not applicable\n",
    "- Species or None if multiple species\n",
    "- Experiment (just CI in these data)\n",
    "\n",
    "For example, the isolate HA3.152.10.01.D.CI has evoluationary line HA3, transfer 152, EPD 10, clone 1, and species DVH.\n",
    "\n",
    "A mutation is specified by its an affected gene (if applicable), position in the genome, nucleotides in the reference genome, and the changed nucleotides. For example, DVU2451.2555217.CA.C is a mutation in the DVU gene DVU2451 at position 2555217 that changes the nucelotides CA to C.\n",
    "\n",
    "The culture is a string that uniquely identifies each single or paired incubation of microbes.\n",
    "\n",
    "These data are combined into a single table called ``genotype_phenotype``. The keys are the isolate (key_isolate), mutation (key_mutation), and culture (key_culture). The table ``genotype`` only contains information related to isolates and mutation. Details of the columns in these tables can be found in microbepy.common.constants.py.\n",
    "\n",
    "The database file is specified in the ``.microbepy`` directory (in the user's home directory) in the file ``config.py``."
   ]
  },
  {
   "cell_type": "markdown",
   "metadata": {},
   "source": [
    "## SQL Access to Data\n",
    "\n",
    "The function ``util.readSQL`` queries the data repository and returns a dataframe with the columns specified in the query."
   ]
  },
  {
   "cell_type": "code",
   "execution_count": 4,
   "metadata": {},
   "outputs": [
    {
     "data": {
      "text/html": [
       "<div>\n",
       "<style scoped>\n",
       "    .dataframe tbody tr th:only-of-type {\n",
       "        vertical-align: middle;\n",
       "    }\n",
       "\n",
       "    .dataframe tbody tr th {\n",
       "        vertical-align: top;\n",
       "    }\n",
       "\n",
       "    .dataframe thead th {\n",
       "        text-align: right;\n",
       "    }\n",
       "</style>\n",
       "<table border=\"1\" class=\"dataframe\">\n",
       "  <thead>\n",
       "    <tr style=\"text-align: right;\">\n",
       "      <th></th>\n",
       "      <th>key_isolate</th>\n",
       "      <th>key_mutation</th>\n",
       "      <th>key_culture</th>\n",
       "    </tr>\n",
       "  </thead>\n",
       "  <tbody>\n",
       "    <tr>\n",
       "      <th>0</th>\n",
       "      <td>HR2.152.01.*.*.*</td>\n",
       "      <td>DVU0001.412.CCCCCCTCGCAGCCCCC.CCCCCC</td>\n",
       "      <td>C127</td>\n",
       "    </tr>\n",
       "    <tr>\n",
       "      <th>1</th>\n",
       "      <td>HR2.152.01.*.*.*</td>\n",
       "      <td>DVU0001.412.CCCCCCTCGCAGCCCCC.CCCCCC</td>\n",
       "      <td>C128</td>\n",
       "    </tr>\n",
       "    <tr>\n",
       "      <th>2</th>\n",
       "      <td>HR2.152.01.*.*.*</td>\n",
       "      <td>DVU0001.412.CCCCCCTCGCAGCCCCC.CCCCCC</td>\n",
       "      <td>C129</td>\n",
       "    </tr>\n",
       "    <tr>\n",
       "      <th>3</th>\n",
       "      <td>HR2.152.01.*.*.*</td>\n",
       "      <td>DVU0001.412.CCCCCCTCGCAGCCCCC.CCCCCC</td>\n",
       "      <td>C130</td>\n",
       "    </tr>\n",
       "    <tr>\n",
       "      <th>4</th>\n",
       "      <td>HR2.152.01.*.*.*</td>\n",
       "      <td>DVU0001.412.CCCCCCTCGCAGCCCCC.CCCCCC</td>\n",
       "      <td>C278</td>\n",
       "    </tr>\n",
       "  </tbody>\n",
       "</table>\n",
       "</div>"
      ],
      "text/plain": [
       "        key_isolate                          key_mutation key_culture\n",
       "0  HR2.152.01.*.*.*  DVU0001.412.CCCCCCTCGCAGCCCCC.CCCCCC        C127\n",
       "1  HR2.152.01.*.*.*  DVU0001.412.CCCCCCTCGCAGCCCCC.CCCCCC        C128\n",
       "2  HR2.152.01.*.*.*  DVU0001.412.CCCCCCTCGCAGCCCCC.CCCCCC        C129\n",
       "3  HR2.152.01.*.*.*  DVU0001.412.CCCCCCTCGCAGCCCCC.CCCCCC        C130\n",
       "4  HR2.152.01.*.*.*  DVU0001.412.CCCCCCTCGCAGCCCCC.CCCCCC        C278"
      ]
     },
     "execution_count": 4,
     "metadata": {},
     "output_type": "execute_result"
    }
   ],
   "source": [
    "sql_cmd = \"select key_isolate, key_mutation, key_culture from genotype_phenotype where transfer = 152\"\n",
    "df = util.readSQL(sql_cmd)\n",
    "df.head()"
   ]
  },
  {
   "cell_type": "markdown",
   "metadata": {},
   "source": [
    "Note that many of the results are for end point dilutions since the clone and species are \"\\*\" (None). To obtain true isolates, the query can be modified."
   ]
  },
  {
   "cell_type": "code",
   "execution_count": 5,
   "metadata": {},
   "outputs": [
    {
     "data": {
      "text/html": [
       "<div>\n",
       "<style scoped>\n",
       "    .dataframe tbody tr th:only-of-type {\n",
       "        vertical-align: middle;\n",
       "    }\n",
       "\n",
       "    .dataframe tbody tr th {\n",
       "        vertical-align: top;\n",
       "    }\n",
       "\n",
       "    .dataframe thead th {\n",
       "        text-align: right;\n",
       "    }\n",
       "</style>\n",
       "<table border=\"1\" class=\"dataframe\">\n",
       "  <thead>\n",
       "    <tr style=\"text-align: right;\">\n",
       "      <th></th>\n",
       "      <th>key_isolate</th>\n",
       "      <th>key_mutation</th>\n",
       "      <th>key_culture</th>\n",
       "    </tr>\n",
       "  </thead>\n",
       "  <tbody>\n",
       "    <tr>\n",
       "      <th>0</th>\n",
       "      <td>HR2.152.05.01.D.CI</td>\n",
       "      <td>DVU0001.412.CCCCCCTCGCAGCCCCC.CCCCCC</td>\n",
       "      <td>C647</td>\n",
       "    </tr>\n",
       "    <tr>\n",
       "      <th>1</th>\n",
       "      <td>HR2.152.05.01.D.CI</td>\n",
       "      <td>DVU0001.412.CCCCCCTCGCAGCCCCC.CCCCCC</td>\n",
       "      <td>C648</td>\n",
       "    </tr>\n",
       "    <tr>\n",
       "      <th>2</th>\n",
       "      <td>HR2.152.05.01.D.CI</td>\n",
       "      <td>DVU0001.412.CCCCCCTCGCAGCCCCC.CCCCCC</td>\n",
       "      <td>C649</td>\n",
       "    </tr>\n",
       "    <tr>\n",
       "      <th>3</th>\n",
       "      <td>HR2.152.05.01.D.CI</td>\n",
       "      <td>DVU0001.412.CCCCCCTCGCAGCCCCC.CCCCCC</td>\n",
       "      <td>C168</td>\n",
       "    </tr>\n",
       "    <tr>\n",
       "      <th>4</th>\n",
       "      <td>HR2.152.05.01.D.CI</td>\n",
       "      <td>DVU0001.412.CCCCCCTCGCAGCCCCC.CCCCCC</td>\n",
       "      <td>C169</td>\n",
       "    </tr>\n",
       "  </tbody>\n",
       "</table>\n",
       "</div>"
      ],
      "text/plain": [
       "          key_isolate                          key_mutation key_culture\n",
       "0  HR2.152.05.01.D.CI  DVU0001.412.CCCCCCTCGCAGCCCCC.CCCCCC        C647\n",
       "1  HR2.152.05.01.D.CI  DVU0001.412.CCCCCCTCGCAGCCCCC.CCCCCC        C648\n",
       "2  HR2.152.05.01.D.CI  DVU0001.412.CCCCCCTCGCAGCCCCC.CCCCCC        C649\n",
       "3  HR2.152.05.01.D.CI  DVU0001.412.CCCCCCTCGCAGCCCCC.CCCCCC        C168\n",
       "4  HR2.152.05.01.D.CI  DVU0001.412.CCCCCCTCGCAGCCCCC.CCCCCC        C169"
      ]
     },
     "execution_count": 5,
     "metadata": {},
     "output_type": "execute_result"
    }
   ],
   "source": [
    "sql_cmd = \"\"\"\n",
    "select key_isolate, key_mutation, key_culture from genotype_phenotype\n",
    "     where transfer = 152 and species in ('D', 'M')\n",
    "\"\"\"\n",
    "df = util.readSQL(sql_cmd)\n",
    "df.head()"
   ]
  },
  {
   "cell_type": "markdown",
   "metadata": {},
   "source": [
    "To obtain phenotype information, we had columns for ``rate`` and ``yield``."
   ]
  },
  {
   "cell_type": "code",
   "execution_count": 7,
   "metadata": {},
   "outputs": [
    {
     "data": {
      "text/html": [
       "<div>\n",
       "<style scoped>\n",
       "    .dataframe tbody tr th:only-of-type {\n",
       "        vertical-align: middle;\n",
       "    }\n",
       "\n",
       "    .dataframe tbody tr th {\n",
       "        vertical-align: top;\n",
       "    }\n",
       "\n",
       "    .dataframe thead th {\n",
       "        text-align: right;\n",
       "    }\n",
       "</style>\n",
       "<table border=\"1\" class=\"dataframe\">\n",
       "  <thead>\n",
       "    <tr style=\"text-align: right;\">\n",
       "      <th></th>\n",
       "      <th>key_isolate</th>\n",
       "      <th>key_mutation</th>\n",
       "      <th>key_culture</th>\n",
       "      <th>rate</th>\n",
       "      <th>yield</th>\n",
       "    </tr>\n",
       "  </thead>\n",
       "  <tbody>\n",
       "    <tr>\n",
       "      <th>0</th>\n",
       "      <td>HR2.152.05.01.D.CI</td>\n",
       "      <td>DVU0001.412.CCCCCCTCGCAGCCCCC.CCCCCC</td>\n",
       "      <td>C647</td>\n",
       "      <td>0.025899</td>\n",
       "      <td>0.426375</td>\n",
       "    </tr>\n",
       "    <tr>\n",
       "      <th>1</th>\n",
       "      <td>HR2.152.05.01.D.CI</td>\n",
       "      <td>DVU0001.412.CCCCCCTCGCAGCCCCC.CCCCCC</td>\n",
       "      <td>C648</td>\n",
       "      <td>0.028403</td>\n",
       "      <td>0.438955</td>\n",
       "    </tr>\n",
       "    <tr>\n",
       "      <th>2</th>\n",
       "      <td>HR2.152.05.01.D.CI</td>\n",
       "      <td>DVU0001.412.CCCCCCTCGCAGCCCCC.CCCCCC</td>\n",
       "      <td>C649</td>\n",
       "      <td>0.026304</td>\n",
       "      <td>0.441246</td>\n",
       "    </tr>\n",
       "    <tr>\n",
       "      <th>3</th>\n",
       "      <td>HR2.152.05.01.D.CI</td>\n",
       "      <td>DVU0001.412.CCCCCCTCGCAGCCCCC.CCCCCC</td>\n",
       "      <td>C168</td>\n",
       "      <td>0.030093</td>\n",
       "      <td>0.519520</td>\n",
       "    </tr>\n",
       "    <tr>\n",
       "      <th>4</th>\n",
       "      <td>HR2.152.05.01.D.CI</td>\n",
       "      <td>DVU0001.412.CCCCCCTCGCAGCCCCC.CCCCCC</td>\n",
       "      <td>C169</td>\n",
       "      <td>0.029688</td>\n",
       "      <td>0.525941</td>\n",
       "    </tr>\n",
       "  </tbody>\n",
       "</table>\n",
       "</div>"
      ],
      "text/plain": [
       "          key_isolate                          key_mutation key_culture  \\\n",
       "0  HR2.152.05.01.D.CI  DVU0001.412.CCCCCCTCGCAGCCCCC.CCCCCC        C647   \n",
       "1  HR2.152.05.01.D.CI  DVU0001.412.CCCCCCTCGCAGCCCCC.CCCCCC        C648   \n",
       "2  HR2.152.05.01.D.CI  DVU0001.412.CCCCCCTCGCAGCCCCC.CCCCCC        C649   \n",
       "3  HR2.152.05.01.D.CI  DVU0001.412.CCCCCCTCGCAGCCCCC.CCCCCC        C168   \n",
       "4  HR2.152.05.01.D.CI  DVU0001.412.CCCCCCTCGCAGCCCCC.CCCCCC        C169   \n",
       "\n",
       "       rate     yield  \n",
       "0  0.025899  0.426375  \n",
       "1  0.028403  0.438955  \n",
       "2  0.026304  0.441246  \n",
       "3  0.030093  0.519520  \n",
       "4  0.029688  0.525941  "
      ]
     },
     "execution_count": 7,
     "metadata": {},
     "output_type": "execute_result"
    }
   ],
   "source": [
    "sql_cmd = \"\"\"\n",
    "select key_isolate, key_mutation, key_culture, rate, yield from genotype_phenotype\n",
    "     where transfer = 152 and species in ('D', 'M')\n",
    "\"\"\"\n",
    "df = util.readSQL(sql_cmd)\n",
    "df.head()"
   ]
  },
  {
   "cell_type": "markdown",
   "metadata": {},
   "source": [
    "## Mutation Matrix"
   ]
  }
 ],
 "metadata": {
  "kernelspec": {
   "display_name": "Python 3",
   "language": "python",
   "name": "python3"
  },
  "language_info": {
   "codemirror_mode": {
    "name": "ipython",
    "version": 3
   },
   "file_extension": ".py",
   "mimetype": "text/x-python",
   "name": "python",
   "nbconvert_exporter": "python",
   "pygments_lexer": "ipython3",
   "version": "3.7.2"
  }
 },
 "nbformat": 4,
 "nbformat_minor": 2
}
