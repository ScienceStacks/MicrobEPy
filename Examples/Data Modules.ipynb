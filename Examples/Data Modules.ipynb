{
 "cells": [
  {
   "cell_type": "markdown",
   "metadata": {},
   "source": [
    "# Example Usages for Data Modules\n",
    "\n",
    "The data modules provide a way to access the underlying data and transform it to facilitate analysis. This includes:\n",
    "\n",
    "- Data retrieval using SQL\n",
    "- Creation of mutation matrices\n",
    "- Creation of vectors of dependent variables"
   ]
  },
  {
   "cell_type": "code",
   "execution_count": 2,
   "metadata": {},
   "outputs": [],
   "source": [
    "%matplotlib inline\n",
    "\n",
    "import init\n",
    "import microbepy.common\n",
    "from microbepy.common import constants as cn\n",
    "from microbepy.common import util\n",
    "from microbepy.common import isolate\n",
    "from microbepy.statistics.mutation_differential import MutationDifferential\n",
    "from microbepy.common.range_constraint import RangeConstraint\n",
    "from microbepy.common.study_context import nextStudyContext\n",
    "from microbepy.plot.util_plot import PlotParms\n",
    "from microbepy.correlation.mutation_collection import MutationCollection\n",
    "from microbepy.plot.mutation_plot import MutationIsolatePlot, MutationLinePlot\n",
    "\n",
    "import copy\n",
    "import numpy as np\n",
    "import pandas as pd"
   ]
  }
 ],
 "metadata": {
  "kernelspec": {
   "display_name": "Python 3",
   "language": "python",
   "name": "python3"
  },
  "language_info": {
   "codemirror_mode": {
    "name": "ipython",
    "version": 3
   },
   "file_extension": ".py",
   "mimetype": "text/x-python",
   "name": "python",
   "nbconvert_exporter": "python",
   "pygments_lexer": "ipython3",
   "version": "3.7.2"
  }
 },
 "nbformat": 4,
 "nbformat_minor": 2
}
