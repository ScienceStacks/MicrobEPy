{
 "cells": [
  {
   "cell_type": "markdown",
   "metadata": {},
   "source": [
    "# Mutation Differentials\n",
    "This notebook analyzes how mutations change in prevalance within phenotype space."
   ]
  },
  {
   "cell_type": "code",
   "execution_count": 1,
   "metadata": {},
   "outputs": [],
   "source": [
    "%matplotlib inline\n",
    "\n",
    "import microbepy_init\n",
    "import microbepy\n",
    "import microbepy.common\n",
    "from microbepy.common import constants as cn\n",
    "from microbepy.common import util\n",
    "from microbepy.common import isolate\n",
    "from microbepy.statistics.mutation_differential import MutationDifferential\n",
    "from microbepy.common.range_constraint import RangeConstraint\n",
    "from microbepy.common.study_context import nextStudyContext\n",
    "from microbepy.plot.util_plot import PlotParms\n",
    "from microbepy.correlation.mutation_collection import MutationCollection\n",
    "from microbepy.plot.mutation_plot import MutationIsolatePlot, MutationLinePlot\n",
    "\n",
    "import copy\n",
    "import numpy as np\n",
    "import pandas as pd"
   ]
  },
  {
   "cell_type": "markdown",
   "metadata": {},
   "source": [
    "## Basic Mutation Analysis"
   ]
  },
  {
   "cell_type": "markdown",
   "metadata": {},
   "source": [
    "### Isolate Mutations"
   ]
  },
  {
   "cell_type": "code",
   "execution_count": null,
   "metadata": {
    "scrolled": false
   },
   "outputs": [],
   "source": [
    "# Mutations for isolates\n",
    "\n",
    "mutation_plot = MutationIsolatePlot(mutation_column=cn.GGENE_ID)\n",
    "mutation_plot.plot(cn.SPECIES_MIX_DVH)\n",
    "mutation_plot.plot(cn.SPECIES_MIX_MMP)"
   ]
  },
  {
   "cell_type": "markdown",
   "metadata": {},
   "source": [
    "### Line Mutations"
   ]
  },
  {
   "cell_type": "code",
   "execution_count": null,
   "metadata": {},
   "outputs": [],
   "source": [
    "parms = PlotParms()\n",
    "parms[cn.PLT_FIGSIZE] = [20, 16]\n",
    "mutation_plot = MutationLinePlot(mutation_column=cn.GGENE_ID)\n",
    "mutation_plot.plotTransfers(parms=parms)"
   ]
  },
  {
   "cell_type": "markdown",
   "metadata": {},
   "source": [
    "Observations\n",
    "1. There are several lines that have identical initial conditions, suggesting that comparisons can be made in erms of evolutionary outcomes.\n",
    "1. Can try to manually correlate MMP and DVH mutations.For example, is MMP0419 a response to DVH first intergeneic mutation?\n",
    "1. Plot number of multi-line mutations over time for DVH and MMP. Consider thresholds of at least 2 lines and at least 3 lines.\n",
    "1. Why are there more lines for MMP than DVH?\n",
    "1. Can the presence of a mutation in later generations be predicted based on earlier generations?"
   ]
  },
  {
   "cell_type": "code",
   "execution_count": null,
   "metadata": {},
   "outputs": [],
   "source": [
    "# Mutation fractions by line"
   ]
  },
  {
   "cell_type": "code",
   "execution_count": null,
   "metadata": {
    "scrolled": true
   },
   "outputs": [],
   "source": [
    "# Compare mutations of isolates with standardized rate < 0 with the mutations in isolates with rate > 0 in line\n",
    "def makeDFForLine(line, depvar=cn.RATE, separation=0.0, is_median=False):\n",
    "    rc_low = RangeConstraint(lower=-10, upper=-separation/2.0)\n",
    "    rc_high = RangeConstraint(lower=separation/2.0, upper=10)\n",
    "    if line == cn.LINE_ALL:\n",
    "        constraints = []\n",
    "    else:\n",
    "        constraints = [lambda r: r[cn.LINE] == line]\n",
    "    differential = MutationDifferential(depvar, cn.GGENE_ID,\n",
    "        constraints=constraints,\n",
    "        is_median=is_median, is_standardize_by_line=True,\n",
    "        rc_low=rc_low, rc_high=rc_high)\n",
    "    return differential.makeDF()"
   ]
  },
  {
   "cell_type": "code",
   "execution_count": null,
   "metadata": {
    "scrolled": true
   },
   "outputs": [],
   "source": [
    "# count1: count of occurrences in values of low phenotype\n",
    "# count2: count in high phenotype\n",
    "# value: cumulative significance level\n",
    "for line in cn.LINE_CIS:\n",
    "    print(\"\\n\\n%s\\n\" % line)\n",
    "    print (makeDFForLine(line, separation=0, is_median=True))"
   ]
  },
  {
   "cell_type": "code",
   "execution_count": null,
   "metadata": {
    "scrolled": true
   },
   "outputs": [],
   "source": [
    "for line in cn.LINE_CIS:\n",
    "    print(\"\\n\\n%s\\n\" % line)\n",
    "    print (makeDFForLine(line, depvar=cn.YIELD, separation=0, is_median=False))"
   ]
  },
  {
   "cell_type": "code",
   "execution_count": null,
   "metadata": {
    "scrolled": true
   },
   "outputs": [],
   "source": [
    "for depvar in cn.DEPVARS:\n",
    "    line = cn.LINE_ALL\n",
    "    print(\"\\n\\n%s\\n\" % depvar)\n",
    "    print (makeDFForLine(line, depvar=depvar, separation=0, is_median=True))"
   ]
  },
  {
   "cell_type": "markdown",
   "metadata": {},
   "source": [
    "Observations\n",
    "1. Note that larger values of rate phenotype seem to be correlated with EPD (from database queries) for UE3"
   ]
  },
  {
   "cell_type": "markdown",
   "metadata": {},
   "source": [
    "## To Do\n",
    "1. Summarize significant results in tables with protein descriptions\n",
    "1. Plot results in phenotype space\n",
    "   1. UE3 rate - 3 significant\n",
    "   1. HR2 yield - 2 significant\n",
    "1. Research the proteins"
   ]
  },
  {
   "cell_type": "markdown",
   "metadata": {},
   "source": [
    "# Knob Analysis\n",
    "1. can see all non-universal mutations by using max_sl = 0.99\n",
    "1. do plots at 0.05 and 0.99 for rate, yield, average & median. Show contrast between separation provided by small and large significance levels.\n",
    "1. some seem that they should be significant based on the counts"
   ]
  },
  {
   "cell_type": "code",
   "execution_count": null,
   "metadata": {
    "scrolled": true
   },
   "outputs": [],
   "source": [
    "def plotKnobSL(max_sl, is_legend=True):\n",
    "    specification = {cn.DEPVAR: cn.DEPVARS, cn.LINE: cn.LINE_CIS}\n",
    "    for context in nextStudyContext(specification=specification):\n",
    "        constraints = [lambda r: r[cn.LINE] == context.line]\n",
    "        differential = MutationDifferential(context.depvar, cn.GGENE_ID,\n",
    "            constraints=constraints,\n",
    "            is_median=True,\n",
    "            is_standardize_by_line = True,\n",
    "            )   \n",
    "        parms = PlotParms()\n",
    "        if not is_legend:\n",
    "            parms[cn.PLT_LEGEND] = \"\"\n",
    "        parms[cn.PLT_TITLE] = \"%s, %s\" % (context.line, context.depvar)\n",
    "        differential.scatterKnob(parms=parms, is_plot=True, max_sl=max_sl)"
   ]
  },
  {
   "cell_type": "code",
   "execution_count": null,
   "metadata": {
    "scrolled": false
   },
   "outputs": [],
   "source": [
    "plotKnobSL(0.05)"
   ]
  },
  {
   "cell_type": "code",
   "execution_count": null,
   "metadata": {},
   "outputs": [],
   "source": [
    "plotKnobSL(0.95, is_legend=False)"
   ]
  },
  {
   "cell_type": "markdown",
   "metadata": {},
   "source": [
    "# Mutation Groups\n",
    "Find mutations that only occur in an isolate if the entire group is present"
   ]
  },
  {
   "cell_type": "code",
   "execution_count": null,
   "metadata": {
    "scrolled": false
   },
   "outputs": [],
   "source": [
    "# Plot mutation groups\n",
    "parms = PlotParms()\n",
    "parms[cn.PLT_FIGSIZE] = (12, 8)\n",
    "for species in [cn.SPECIES_MIX_DVH, cn.SPECIES_MIX_MMP]:\n",
    "    collection = MutationCollection.makeMutationCollectionForLine(species=species)\n",
    "    collection.plot(parms=parms)"
   ]
  }
 ],
 "metadata": {
  "kernelspec": {
   "display_name": "Python 3",
   "language": "python",
   "name": "python3"
  },
  "language_info": {
   "codemirror_mode": {
    "name": "ipython",
    "version": 3
   },
   "file_extension": ".py",
   "mimetype": "text/x-python",
   "name": "python",
   "nbconvert_exporter": "python",
   "pygments_lexer": "ipython3",
   "version": "3.7.2"
  }
 },
 "nbformat": 4,
 "nbformat_minor": 2
}
